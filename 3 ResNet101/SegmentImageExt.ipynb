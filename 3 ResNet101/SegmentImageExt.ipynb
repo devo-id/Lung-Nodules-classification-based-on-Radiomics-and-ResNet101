{
 "cells": [
  {
   "attachments": {},
   "cell_type": "markdown",
   "metadata": {},
   "source": [
    "This program will extract all the slices from the 3d image and save as .jpg file for each segment of the nodule.\n",
    "The result will be saved in the CroppedImageData folder.\n"
   ]
  },
  {
   "cell_type": "code",
   "execution_count": null,
   "metadata": {},
   "outputs": [],
   "source": [
    "import numpy as np\n",
    "import SimpleITK as sitk\n",
    "from scipy.ndimage import zoom\n",
    "import os\n",
    "import glob\n",
    "import matplotlib.image"
   ]
  },
  {
   "cell_type": "code",
   "execution_count": 3,
   "metadata": {},
   "outputs": [
    {
     "name": "stdout",
     "output_type": "stream",
     "text": [
      "['LIDC-IDRI-01', 'LIDC-IDRI-02', 'LIDC-IDRI-03', 'LIDC-IDRI-04', 'LIDC-IDRI-05', 'LIDC-IDRI-06', 'LIDC-IDRI-07', 'LIDC-IDRI-08', 'LIDC-IDRI-09', 'LIDC-IDRI-10', 'LIDC-IDRI-11', 'LIDC-IDRI-12', 'LIDC-IDRI-13', 'LIDC-IDRI-14', 'LIDC-IDRI-15', 'LIDC-IDRI-16', 'LIDC-IDRI-17', 'LIDC-IDRI-18', 'LIDC-IDRI-19', 'LIDC-IDRI-20', 'LIDC-IDRI-21', 'LIDC-IDRI-22', 'LIDC-IDRI-23', 'LIDC-IDRI-24', 'LIDC-IDRI-25', 'LIDC-IDRI-26', 'LIDC-IDRI-27', 'LIDC-IDRI-29', 'LIDC-IDRI-30', 'LIDC-IDRI-31', 'LIDC-IDRI-33', 'LIDC-IDRI-34', 'LIDC-IDRI-36', 'LIDC-IDRI-37', 'LIDC-IDRI-39', 'LIDC-IDRI-40', 'LIDC-IDRI-41', 'LIDC-IDRI-42', 'LIDC-IDRI-43', 'LIDC-IDRI-44', 'LIDC-IDRI-45', 'LIDC-IDRI-46', 'LIDC-IDRI-47', 'LIDC-IDRI-48', 'LIDC-IDRI-49', 'LIDC-IDRI-50']\n",
      "46\n"
     ]
    }
   ],
   "source": [
    "imgDir = './Data'\n",
    "dirlist = os.listdir(imgDir)\n",
    "print(dirlist)\n",
    "print(len(dirlist))"
   ]
  },
  {
   "cell_type": "code",
   "execution_count": 4,
   "metadata": {},
   "outputs": [],
   "source": [
    "#Cropping box\n",
    "def maskcroppingbox(images_array, use2D=False):\n",
    "    images_array_2 = np.argwhere(images_array)\n",
    "    (zstart, ystart, xstart), (zstop, ystop, xstop) = images_array_2.min(axis=0), images_array_2.max(axis=0) + 1\n",
    "    return (zstart, ystart, xstart), (zstop, ystop, xstop)"
   ]
  },
  {
   "cell_type": "code",
   "execution_count": null,
   "metadata": {},
   "outputs": [],
   "source": [
    "# image segment extraction\n",
    "for ind in range(len(dirlist)):\n",
    "    path = os.path.join(imgDir,dirlist[ind])\n",
    "    imgpath = glob.glob(f'{path}/*.nrrd')\n",
    "    imgpath = imgpath[0]\n",
    "    img = sitk.ReadImage(imgpath)\n",
    "\n",
    "    # pipeline to import data__________________\n",
    "    # load image\n",
    "    # load Segmentations for image\n",
    "    path = os.path.join(path,'Segments')\n",
    "    pathList = os.listdir(path)\n",
    "\n",
    "    for segID in range(len(pathList)):  #iterate over every segment\n",
    "        segPath = os.path.join(imgDir,dirlist[ind],'Segments',pathList[segID])\n",
    "        mask = sitk.ReadImage(segPath)\n",
    "\n",
    "        image_array = sitk.GetArrayFromImage(img) \n",
    "        mask_array = sitk.GetArrayFromImage(mask)\n",
    "       \n",
    "        # creating folder for the segmentation\n",
    "        newDir = f\"{dirlist[ind]}_{str(segID+1)}\"\n",
    "        newDir = os.path.join('CroppedImageData',newDir)\n",
    "        os.mkdir(newDir)\n",
    "        (zstart, ystart, xstart), (zstop, ystop, xstop) = maskcroppingbox(mask_array, use2D=False)\n",
    "        roi_images = image_array[zstart-1:zstop+1,ystart:ystop,xstart:xstop].transpose((2,1,0))\n",
    "        roi_images1 = zoom(roi_images, zoom=[224/roi_images.shape[0], 224/roi_images.shape[1],1], order=3)\n",
    "        # print(roi_images1.shape)\n",
    "        roi_images2 = np.array(roi_images1,dtype=float) \n",
    "        # print(roi_images2.shape)\n",
    "               \n",
    "\n",
    "        transposedImg = roi_images2.transpose((2,1,0))\n",
    "        for j,i in enumerate(transposedImg):\n",
    "            matplotlib.image.imsave(f\"{newDir}/{j+1}.jpeg\",i, cmap='gray')\n",
    "    print(dirlist[ind])\n"
   ]
  }
 ],
 "metadata": {
  "kernelspec": {
   "display_name": "Python 3.10.7 64-bit",
   "language": "python",
   "name": "python3"
  },
  "language_info": {
   "codemirror_mode": {
    "name": "ipython",
    "version": 3
   },
   "file_extension": ".py",
   "mimetype": "text/x-python",
   "name": "python",
   "nbconvert_exporter": "python",
   "pygments_lexer": "ipython3",
   "version": "3.10.7"
  },
  "orig_nbformat": 4,
  "vscode": {
   "interpreter": {
    "hash": "6a6c037c8e6a9312de3a46897a52c49944f941fa50d39a864d61270b1cb9ceeb"
   }
  }
 },
 "nbformat": 4,
 "nbformat_minor": 2
}
