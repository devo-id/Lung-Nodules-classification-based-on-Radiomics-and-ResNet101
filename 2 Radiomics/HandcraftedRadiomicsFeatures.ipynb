{
 "cells": [
  {
   "cell_type": "code",
   "execution_count": 13,
   "id": "e6dd3f62",
   "metadata": {},
   "outputs": [],
   "source": [
    "import numpy as np\n",
    "import six\n",
    "import SimpleITK as sitk\n",
    "from scipy.ndimage import zoom\n",
    "import os,sys\n",
    "import pandas as pd\n",
    "\n",
    "from radiomics import featureextractor\n",
    "import glob"
   ]
  },
  {
   "cell_type": "code",
   "execution_count": 2,
   "id": "9be8fab5",
   "metadata": {},
   "outputs": [
    {
     "name": "stdout",
     "output_type": "stream",
     "text": [
      "['LIDC-IDRI-01', 'LIDC-IDRI-02', 'LIDC-IDRI-03', 'LIDC-IDRI-04', 'LIDC-IDRI-05', 'LIDC-IDRI-06', 'LIDC-IDRI-07', 'LIDC-IDRI-08', 'LIDC-IDRI-09', 'LIDC-IDRI-10', 'LIDC-IDRI-11', 'LIDC-IDRI-12', 'LIDC-IDRI-13', 'LIDC-IDRI-14', 'LIDC-IDRI-15', 'LIDC-IDRI-16', 'LIDC-IDRI-17', 'LIDC-IDRI-18', 'LIDC-IDRI-19', 'LIDC-IDRI-20', 'LIDC-IDRI-21', 'LIDC-IDRI-22', 'LIDC-IDRI-23', 'LIDC-IDRI-24', 'LIDC-IDRI-25', 'LIDC-IDRI-26', 'LIDC-IDRI-27', 'LIDC-IDRI-29', 'LIDC-IDRI-30', 'LIDC-IDRI-31', 'LIDC-IDRI-33', 'LIDC-IDRI-34', 'LIDC-IDRI-36', 'LIDC-IDRI-37', 'LIDC-IDRI-39', 'LIDC-IDRI-40', 'LIDC-IDRI-41', 'LIDC-IDRI-42', 'LIDC-IDRI-43', 'LIDC-IDRI-44', 'LIDC-IDRI-45', 'LIDC-IDRI-46', 'LIDC-IDRI-47', 'LIDC-IDRI-48', 'LIDC-IDRI-49', 'LIDC-IDRI-50']\n",
      "46\n"
     ]
    }
   ],
   "source": [
    "\n",
    "imgDir = 'Data'\n",
    "dirlist = os.listdir(imgDir)\n",
    "print(dirlist)\n",
    "print(len(dirlist))"
   ]
  },
  {
   "cell_type": "code",
   "execution_count": 7,
   "id": "362b7c42",
   "metadata": {},
   "outputs": [
    {
     "name": "stdout",
     "output_type": "stream",
     "text": [
      "LIDC-IDRI-01\n"
     ]
    }
   ],
   "source": [
    "# Feature Extraction\n",
    "classification = {}\n",
    "featureDict = {}\n",
    "for ind in range(len(dirlist)):\n",
    "    path = os.path.join(imgDir,dirlist[ind])\n",
    "    imgpath = glob.glob(f'{path}/*.nrrd')\n",
    "    img = sitk.ReadImage(imgpath[0])\n",
    "\n",
    "    # pipeline to import data__________________\n",
    "    # load image\n",
    "    # log Segmentations for image\n",
    "    path = os.path.join(path,'Segments')\n",
    "    pathList = os.listdir(path)\n",
    "\n",
    "    # #radiomics parameter\n",
    "    params = 'Settings\\Params.yaml'\n",
    "    extractor = featureextractor.RadiomicsFeatureExtractor(params)\n",
    "\n",
    "    for segID in range(len(pathList)):  #iterate over every segment\n",
    "        segPath = os.path.join(imgDir,dirlist[ind],'Segments',pathList[segID])\n",
    "        mask = sitk.ReadImage(segPath)\n",
    "\n",
    "        # print(img.GetSize())\n",
    "        # print(mask.GetSize())\n",
    "        # print(img.GetOrigin())\n",
    "        # print(mask.GetOrigin())\n",
    "        # calculating features\n",
    "        result = extractor.execute(img,mask)\n",
    "\n",
    "        key = list(result.keys())\n",
    "        key = key[1:]\n",
    "\n",
    "\n",
    "        x = segPath.rfind('\\\\') #getting malignency\n",
    "\n",
    "        feature = []\n",
    "        for jind in range(len(key)):\n",
    "            feature.append(result[key[jind]])\n",
    "\n",
    "        if(segPath[x+1] in {'1','2'}):\n",
    "            classification[dirlist[ind]+'_'+str(segID+1)] = 0\n",
    "        else:\n",
    "            classification[dirlist[ind]+'_'+str(segID+1)] = 1\n",
    "        featureDict[dirlist[ind]+'_'+str(segID+1)] = feature\n",
    "        dictkey = key\n",
    "    print(dirlist[ind])\n"
   ]
  },
  {
   "cell_type": "code",
   "execution_count": 5,
   "id": "56d8c10f",
   "metadata": {},
   "outputs": [
    {
     "data": {
      "text/plain": [
       "collections.OrderedDict"
      ]
     },
     "execution_count": 5,
     "metadata": {},
     "output_type": "execute_result"
    }
   ],
   "source": [
    "dataframe = pd.DataFrame.from_dict(featureDict, orient='index', columns=dictkey)\n",
    "dataframe.to_csv('Features_Radiomics.csv')"
   ]
  }
 ],
 "metadata": {
  "kernelspec": {
   "display_name": "Python 3.9.13 ('base')",
   "language": "python",
   "name": "python3"
  },
  "language_info": {
   "codemirror_mode": {
    "name": "ipython",
    "version": 3
   },
   "file_extension": ".py",
   "mimetype": "text/x-python",
   "name": "python",
   "nbconvert_exporter": "python",
   "pygments_lexer": "ipython3",
   "version": "3.9.13"
  },
  "vscode": {
   "interpreter": {
    "hash": "ec8c0d5dd9e58ab9ea412583acbc1f709d638a1547db035f43cf6c624631ed5c"
   }
  }
 },
 "nbformat": 4,
 "nbformat_minor": 5
}
